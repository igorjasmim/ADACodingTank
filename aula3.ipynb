{
 "cells": [
  {
   "cell_type": "code",
   "execution_count": 5,
   "metadata": {},
   "outputs": [
    {
     "data": {
      "text/plain": [
       "True"
      ]
     },
     "execution_count": 5,
     "metadata": {},
     "output_type": "execute_result"
    }
   ],
   "source": [
    "salario = float(input('Digite seu salário'))\n",
    "\n"
   ]
  },
  {
   "cell_type": "code",
   "execution_count": 8,
   "metadata": {},
   "outputs": [
    {
     "name": "stdout",
     "output_type": "stream",
     "text": [
      "O maior valor digitado é 8\n",
      "O maior valor digitado é 9\n",
      "O maior valor digitado é 9\n",
      "O maior valor digitado é 9\n",
      "O maior valor digitado é 9\n",
      "O maior valor digitado é 9\n",
      "O maior valor digitado é 9\n",
      "O maior valor digitado é 70\n",
      "O maior valor digitado é 70\n"
     ]
    }
   ],
   "source": [
    "num = int(input('Digite um número:'))\n",
    "\n",
    "maior = num\n",
    "\n",
    "while num != 0:\n",
    "    num = int(input('Digite um novo número ou digite 0 para sair'))\n",
    "        \n",
    "    if num > maior:\n",
    "        maior = num\n",
    "    \n",
    "    print('O maior valor digitado é', maior)"
   ]
  },
  {
   "cell_type": "code",
   "execution_count": 11,
   "metadata": {},
   "outputs": [
    {
     "name": "stdout",
     "output_type": "stream",
     "text": [
      "A soma dos números é 10\n"
     ]
    }
   ],
   "source": [
    "soma = 0\n",
    "\n",
    "num = int(input('Digite um número positovo:'))\n",
    "\n",
    "while num > 0:\n",
    "    soma = soma + num\n",
    "    num = num - 1\n",
    "    \n",
    "print(f'A soma dos números é {soma}')"
   ]
  },
  {
   "cell_type": "code",
   "execution_count": 12,
   "metadata": {},
   "outputs": [
    {
     "name": "stdout",
     "output_type": "stream",
     "text": [
      "A soma dos números é 10\n"
     ]
    }
   ],
   "source": [
    "soma = 0\n",
    "\n",
    "contador = 0\n",
    "\n",
    "num = int(input('Digite um número positovo:'))\n",
    "\n",
    "while contador <= num:\n",
    "    soma = soma + contador\n",
    "    contador += 1\n",
    "    \n",
    "print(f'A soma dos números é {soma}')"
   ]
  },
  {
   "cell_type": "code",
   "execution_count": 1,
   "metadata": {},
   "outputs": [
    {
     "name": "stdout",
     "output_type": "stream",
     "text": [
      "Parabéns, você acertou\n"
     ]
    }
   ],
   "source": [
    "num_secreto = 48\n",
    "\n",
    "while True:\n",
    "    chute = int(input('Digite o número secreto:'))\n",
    "    \n",
    "    if chute == num_secreto:\n",
    "        print('Parabéns, você acertou')\n",
    "        break\n",
    "    elif chute < num_secreto:\n",
    "        print('Tente um número maior:')\n",
    "    else:\n",
    "        print('Tente um número menor')\n",
    "        \n"
   ]
  },
  {
   "cell_type": "markdown",
   "metadata": {},
   "source": [
    "1) Escreva um programa que solicite um número inteiro e imprima na tela todos os números de 1 até o número digitado, separado por espaços.  \n",
    "_Exemplo_  \n",
    "número digitado: 5  \n",
    "resultado esperado: 1 2 3 4 5"
   ]
  },
  {
   "cell_type": "code",
   "execution_count": 13,
   "metadata": {},
   "outputs": [
    {
     "name": "stdout",
     "output_type": "stream",
     "text": [
      "1 2 3 4 5 "
     ]
    }
   ],
   "source": [
    "numero = int(input('Digite um número inteiro:'))\n",
    "\n",
    "contador = 1\n",
    "\n",
    "#resultado = ''\n",
    "\n",
    "while contador <= numero:\n",
    "    print(contador, end=' ')\n",
    "    contador += 1\n",
    "    \n",
    "#while contador <= numero:\n",
    "#    resultado = resultado + str(contador) + ' '\n",
    "#    contador += 1\n",
    "#\n",
    "#print(resultado)"
   ]
  },
  {
   "cell_type": "markdown",
   "metadata": {},
   "source": [
    "2) Faça um programa que mostre o fatorial de um número digitado.  \n",
    "_Exemplo_  \n",
    "número digitado: 5  \n",
    "resultado esperado: 120"
   ]
  },
  {
   "cell_type": "code",
   "execution_count": 16,
   "metadata": {},
   "outputs": [
    {
     "name": "stdout",
     "output_type": "stream",
     "text": [
      "120\n"
     ]
    }
   ],
   "source": [
    "numero = int(input('Digite um número inteiro:'))\n",
    "\n",
    "contador = 1\n",
    "\n",
    "resposta = 1\n",
    "\n",
    "while contador <= numero:\n",
    "    resposta *= contador\n",
    "    contador += 1\n",
    "\n",
    "print(resposta)"
   ]
  },
  {
   "cell_type": "code",
   "execution_count": 14,
   "metadata": {},
   "outputs": [
    {
     "name": "stdout",
     "output_type": "stream",
     "text": [
      "120\n"
     ]
    }
   ],
   "source": [
    "numero = int(input('Digite um número inteiro:'))\n",
    "\n",
    "resposta = 1\n",
    "\n",
    "while numero > 0:\n",
    "    resposta *= numero\n",
    "    numero -= 1\n",
    "\n",
    "print(resposta)"
   ]
  },
  {
   "cell_type": "markdown",
   "metadata": {},
   "source": [
    "3) Faça um programa que imprima a tabuada do 9 na tela (entre 1 e 10). Insira a conta, por exemplo, 9 * 1 = 9, sendo cada um dos valores em uma linha diferente."
   ]
  },
  {
   "cell_type": "code",
   "execution_count": 1,
   "metadata": {},
   "outputs": [
    {
     "name": "stdout",
     "output_type": "stream",
     "text": [
      "9 * 1 = 9\n",
      "9 * 2 = 18\n",
      "9 * 3 = 27\n",
      "9 * 4 = 36\n",
      "9 * 5 = 45\n",
      "9 * 6 = 54\n",
      "9 * 7 = 63\n",
      "9 * 8 = 72\n",
      "9 * 9 = 81\n",
      "9 * 10 = 90\n"
     ]
    }
   ],
   "source": [
    "contador = 1\n",
    "\n",
    "while contador <= 10:\n",
    "    multiplicacao = contador * 9\n",
    "    print(f'9 * {contador} = {multiplicacao}')\n",
    "    contador += 1\n"
   ]
  },
  {
   "cell_type": "markdown",
   "metadata": {},
   "source": [
    "4) Faça um programa em que o usuário digite números quaisquer e encerrará no momento em que o valor 0 seja digitado. Ao final diga qual foi o maior número digitado."
   ]
  },
  {
   "cell_type": "code",
   "execution_count": null,
   "metadata": {},
   "outputs": [],
   "source": []
  },
  {
   "cell_type": "markdown",
   "metadata": {},
   "source": [
    "5) Faça um script que peça para o usuário digitar a idade, o salário e o sexo de uma pessoa até que as entradas digitadas sejam válidas.\n",
    "\n",
    "a. Idade: entre 0 e 150\n",
    "b. Salário: maior que 0\n",
    "c. Gênero: M, F ou Outro\n",
    "\n",
    "Por último imprima os dados recebidos do usuário."
   ]
  },
  {
   "cell_type": "code",
   "execution_count": 9,
   "metadata": {},
   "outputs": [
    {
     "name": "stdout",
     "output_type": "stream",
     "text": [
      "A idade é 31, o salário é 100 e o gênero é M\n"
     ]
    }
   ],
   "source": [
    "idade = int(input('Digite a idade: '))\n",
    "\n",
    "while idade <= 0 or idade >= 150:\n",
    "    idade = int(input('Idade inválida. Digite a idade: '))\n",
    "\n",
    "salario = int(input('Digite o salário: '))\n",
    "\n",
    "while salario <= 0:\n",
    "    salario = int(input('Salário inválido. Digite o salário: '))\n",
    "\n",
    "sexo = input('Digite o gênero:')\n",
    "\n",
    "while sexo.upper() != 'M' and sexo.upper() != 'F' and sexo.upper() != 'OUTRO':\n",
    "    sexo = input('Gênero inválido. Digite o gênero:')\n",
    "\n",
    "print(f'A idade é {idade}, o salário é {salario} e o gênero é {sexo.upper()}')\n"
   ]
  },
  {
   "cell_type": "code",
   "execution_count": null,
   "metadata": {},
   "outputs": [],
   "source": [
    "idade = int(input('Digite sua idade: '))\n",
    "\n",
    "while idade < 0 or idade > 150:\n",
    "    idade = int(input('Idade incorreta. Digite sua idade'))\n",
    "\n",
    "salario = int(input('Digite seu salário: '))\n",
    "\n",
    "while salario <= 0:\n",
    "    idade = int(input('Salário incorreto. Digite um salário válido'))\n",
    "\n",
    "\n",
    "genero = input('Digite o gênero entre M, F ou Outro:')\n",
    "\n",
    "while genero.upper() != 'M' and genero.upper() != 'F' and genero.upper() != 'OUTRO':\n",
    "    genero = input('Gênero inválido. Digite o gênero entre M, F ou Outro:')"
   ]
  },
  {
   "cell_type": "markdown",
   "metadata": {},
   "source": [
    "6) Faça uma calculadora. O usuário deve inserir qual a operação matemática ele deseja realizar e logo em seguida os dois números. O programa deve finalizar apenas quando o usuário digitar a opção \"sair\" no momento de escolha da operação matemática."
   ]
  },
  {
   "cell_type": "code",
   "execution_count": 3,
   "metadata": {},
   "outputs": [
    {
     "name": "stdout",
     "output_type": "stream",
     "text": [
      "Operação inválida\n"
     ]
    }
   ],
   "source": [
    "operacao = ''\n",
    "while operacao != 'sair':\n",
    "    operacao = input('Digite a operação matemática a ser realizada (+, - ,* , /)').lower()\n",
    "    if operacao == 'sair':\n",
    "        break\n",
    "    num1 = float(input('Digite o primeiro número:'))\n",
    "    num2 = float(input('Digite o segundo número:'))\n",
    "    if operacao == '+':\n",
    "        calculo = num1 + num2\n",
    "        print(f'O cálculo é {calculo}')\n",
    "    elif operacao == '-':\n",
    "        calculo = num1 - num2\n",
    "        print(f'O cálculo é {calculo}')\n",
    "    elif operacao == '*':\n",
    "        calculo = num1 * num2\n",
    "        print(f'O cálculo é {calculo}')\n",
    "    elif operacao == '/':\n",
    "        while num2 == 0:\n",
    "            num2 = int(input('Operação inválida. Digite um número diferente de 0 para o denominador:'))\n",
    "        calculo = num1 / num2\n",
    "        print(f'O cálculo é {calculo}')\n",
    "    else:\n",
    "        print('Operação inválida')\n"
   ]
  }
 ],
 "metadata": {
  "kernelspec": {
   "display_name": "Python 3",
   "language": "python",
   "name": "python3"
  },
  "language_info": {
   "codemirror_mode": {
    "name": "ipython",
    "version": 3
   },
   "file_extension": ".py",
   "mimetype": "text/x-python",
   "name": "python",
   "nbconvert_exporter": "python",
   "pygments_lexer": "ipython3",
   "version": "3.12.4"
  }
 },
 "nbformat": 4,
 "nbformat_minor": 2
}
