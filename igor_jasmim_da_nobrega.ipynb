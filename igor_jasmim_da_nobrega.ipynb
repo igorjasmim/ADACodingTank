{
 "cells": [
  {
   "cell_type": "markdown",
   "metadata": {},
   "source": [
    "Avaliação Coding Tank - Santander Coders 2024 - Python\n",
    "Instruções importantes\n",
    "Crie um notebook intitulado seu_nome_completo.ipynb (com o seu nome completo) e responda às perguntas justificando sua resposta em todos os casos.\n",
    "\n",
    "As alternativas corretas devem ser indicadas e justificadas. Nas questões que pedem que um código seja escrito, inclua o código bem como comentários explicando seu raciocínio.\n",
    "\n",
    "Nesta avaliação serão considerados apenas soluções que utilizem os conteúdos ensinados em aula. Não use conteúdo extra! Mesmo que a solução produza resultados corretos, códigos que utilizam conceitos/conteúdos não vistos em aula serão desconsiderados!\n",
    "\n",
    "Boa avaliação!\n"
   ]
  },
  {
   "cell_type": "markdown",
   "metadata": {},
   "source": [
    "Questão 1:\n",
    "Na área de registro de pagamento de um grande banco, é importantíssimo que os dados sejam tratados apropriadamente. Sendo assim, é fundamental que os tipos de variáveis sejam definidos de acordo com a finalidade a que se destinam. Isto posto, considere o trecho de código abaixo, parte de um sistema de processamento de dados de pagamentos:\n",
    "\n",
    "v = input(\"Digite o valor da compra: \")\n",
    "Avaliando as assertivas que se seguem, assinale a alternativa correta.\n",
    "\n",
    "I – a variável v será do tipo str (string).\n",
    "\n",
    "II – sabemos que operações algébricas serão feitas com a variável v no decorrer do programa. Sendo assim, o tipo desta variável é irrelevante.\n",
    "\n",
    "III – a variável v será sempre numérica, dado que a instrução no input indica claramente que seja digitado um valor de compra (que é numérico)\n",
    "\n",
    "a) Apenas a assertiva I é correta\n",
    "b) Apenas a assertiva II é correta\n",
    "c) Apenas a assertiva III é correta\n",
    "d) Todas as assertivas são corretas\n",
    "e) Todas as assertivas são incorretas\n",
    "\n",
    "RESPOSTA:\n",
    "\n",
    "Alternativa correta: a) Apenas a assertiva I é correta\n",
    "\n",
    "Justificando:\n",
    "\n",
    "I - Correta, a variável v será uma string a função input coloca numa string o que é digitado.\n",
    "\n",
    "II - Incorreta, operações matemáticas são realizadas com números e é muito importante definir a variável como número (float, por exemplo)\n",
    "\n",
    "III - Incorreta, a função input utilizada sozinha vai atribuir uma string para a variável v. Além disso, pode ser digitado um valor numérico por extenso, com isso, não seria um número."
   ]
  },
  {
   "cell_type": "markdown",
   "metadata": {},
   "source": [
    "Questão 2:\n",
    "Como parte do código de uma rotina de processamento de informações financeiras, precisamos guardar, em uma lista, informações sobre as taxas de manutenção cobradas em certos tipos de contas. No que diz respeito à inicialização de listas em Python, avalie as formas de inicialização abaixo, indicando a alternativa correta:\n",
    "\n",
    "I) lista_taxas = []\n",
    "II) lista_taxas = (0.08, 0.09)\n",
    "III) lista_taxas = list[0.08, 0.09]\n",
    "IV) lista_taxas = [0.08, 0.09]\n",
    "V) lista_taxas = list(“89”)\n",
    "\n",
    "a) Nenhuma das formas acima é uma maneira válida de inicializar uma lista em Python\n",
    "b) Apenas as alternativas I e II são válidas para inicializar uma lista em Python\n",
    "c) Apenas as alternativas II, III e IV são válidas para inicializar uma lista em Python\n",
    "d) Apenas as alternativas I, IV e V são válidas para inicializar uma lista em Python\n",
    "e) Todas as alternativas são opções viáveis de inicialização de listas em Python\n",
    "\n",
    "\n",
    "RESPOSTA:\n",
    "\n",
    "Alternativa correta: d) Apenas as alternativas I, IV e V são válidas para inicializar uma lista em Python\n",
    "\n",
    "Justificando:\n",
    "\n",
    "I) lista_taxas = [] --> inicializa uma lista vazia, resultado: \"[]\"\n",
    "\n",
    "II) lista_taxas = (0.08, 0.09) --> não inicializa uma lista, resultado: \"(0.08, 0.09)\", lista viria com colchetes, usando a função type essa variável seria <class 'tuple'>.\n",
    "\n",
    "III) lista_taxas = list[0.08, 0.09] --> não inicializa uma lista, resultado: \"list[0.08, 0.09]\"\n",
    "\n",
    "IV) lista_taxas = [0.08, 0.09] --> inicializa uma lista com dois elementos, resultado: \"[0.08, 0.09]\"\n",
    "\n",
    "V) lista_taxas = list(\"89\") --> inicializa uma lista com dois elementos, resultado: \"['8', '9']\", elementos são string\n",
    "\n",
    "Para complementar as justificativas foram feitos testes com os comandos abaixo."
   ]
  },
  {
   "cell_type": "code",
   "execution_count": 16,
   "metadata": {},
   "outputs": [
    {
     "name": "stdout",
     "output_type": "stream",
     "text": [
      "[]\n",
      "<class 'list'>\n",
      "(0.08, 0.09)\n",
      "<class 'tuple'>\n",
      "list[0.08, 0.09]\n",
      "<class 'types.GenericAlias'>\n",
      "[0.08, 0.09]\n",
      "<class 'list'>\n",
      "['8', '9']\n",
      "<class 'list'>\n",
      "<class 'str'>\n"
     ]
    }
   ],
   "source": [
    "# Verificando cada opção apresentada na questão:\n",
    "lista_taxas1 = []\n",
    "print(lista_taxas1)\n",
    "print(type(lista_taxas1))\n",
    "\n",
    "lista_taxas2 = (0.08, 0.09)\n",
    "print(lista_taxas2)\n",
    "print(type(lista_taxas2))\n",
    "\n",
    "lista_taxas3 = list[0.08, 0.09]\n",
    "print(lista_taxas3)\n",
    "print(type(lista_taxas3))\n",
    "\n",
    "lista_taxas4 = [0.08, 0.09]\n",
    "print(lista_taxas4)\n",
    "print(type(lista_taxas4))\n",
    "\n",
    "lista_taxas5 = list(\"89\")\n",
    "print(lista_taxas5)\n",
    "print(type(lista_taxas5))\n",
    "print(type(lista_taxas5[0]))"
   ]
  },
  {
   "cell_type": "markdown",
   "metadata": {},
   "source": [
    "Questão 3:\n",
    "Como parte da equipe de facilities de um banco, você precisa implementar um código em Python que calcula o preço total de uma compra, dado o preço unitário de um dado produto (armazenado na variável preco) e a quantidade de unidades compradas (armazenado na variável quantidade). Assuma que temos apenas um único produto comprado. Assinale a alternativa que corretamente implementa este procedimento:\n",
    "\n",
    "a) preco_total = quantidade *= preco\n",
    "\n",
    "b) preco_total = quantidade * preco\n",
    "\n",
    "c) preco_total = quantidade += preco\n",
    "\n",
    "d) preco_total = quantidade / preco\n",
    "\n",
    "e) nda\n",
    "\n",
    "\n",
    "RESPOSTA:\n",
    "\n",
    "Alternativa correta: b) preco_total = quantidade * preco\n",
    "\n",
    "Justificando:\n",
    "\n",
    "a) preco_total = quantidade *= preco --> erro de sintaxe em \"*=\"\n",
    "\n",
    "b) preco_total = quantidade * preco --> operação de produto entre a quantidade e o preço. Resposta correta\n",
    "\n",
    "c) preco_total = quantidade += preco --> erro de sintaxe em \"+=\"\n",
    "\n",
    "d) preco_total = quantidade / preco --> divisão entre a quantidade e o preço. Operação errada\n",
    "\n",
    "e) nda --> existe uma alternativa correta para essa questão\n",
    "\n",
    "Para complementar as justificativas foram feitos testes com os comandos abaixo."
   ]
  },
  {
   "cell_type": "code",
   "execution_count": 19,
   "metadata": {},
   "outputs": [
    {
     "data": {
      "text/plain": [
       "200"
      ]
     },
     "execution_count": 19,
     "metadata": {},
     "output_type": "execute_result"
    }
   ],
   "source": [
    "preco = 20\n",
    "quantidade = 10\n",
    "preco_total = quantidade * preco\n",
    "preco_total"
   ]
  },
  {
   "cell_type": "markdown",
   "metadata": {},
   "source": [
    "Questão 4:\n",
    "Analise o seguinte código e indique a alternativa que corretamente indica as mensagens que foram exibidas na tela:\n",
    "\n",
    "var_a = 4\n",
    "var_b = -6\n",
    "var_c = 8\n",
    "\n",
    "if var_a > var_b:\n",
    "    print('Saída 1')\n",
    "    \n",
    "if var_a > var_c:\n",
    "    print('Saída 2')\n",
    "elif var_a > var_b + var_c:\n",
    "    print('Saída 3')\n",
    "else:\n",
    "    print('Saída 4')\n",
    "    \n",
    "print('Saída 5')\n",
    "a) Saída 5\n",
    "b) Saída 1 e Saída 3\n",
    "c) Saída 1 e Saída 5\n",
    "d) Saída 1, Saída 3 e Saída 5\n",
    "e) Saída 1, Saída 4 e Saída 5\n",
    "\n",
    "RESPOSTA:\n",
    "\n",
    "Alternativa correta: d) Saída 1, Saída 3 e Saída 5\n",
    "\n",
    "Justificando:\n",
    "\n",
    "a) Saída 5 --> faltam as saídas 1 e 3\n",
    "\n",
    "b) Saída 1 e Saída 3 --> falta a saída 5\n",
    "\n",
    "c) Saída 1 e Saída 5 --> falta a saída 3\n",
    "\n",
    "d) Saída 1, Saída 3 e Saída 5 --> alternativa correta\n",
    "\n",
    "e) Saída 1, Saída 4 e Saída 5 --> não imprime saída 4, falta a saída 3\n",
    "\n",
    "Para complementar as justificativas foram feitos testes com os comandos abaixo.\n"
   ]
  },
  {
   "cell_type": "code",
   "execution_count": 20,
   "metadata": {},
   "outputs": [
    {
     "name": "stdout",
     "output_type": "stream",
     "text": [
      "Saída 1\n",
      "Saída 3\n",
      "Saída 5\n"
     ]
    }
   ],
   "source": [
    "var_a = 4\n",
    "var_b = -6\n",
    "var_c = 8\n",
    "\n",
    "if var_a > var_b: # 4 > -6 --> True, roda o que tem dentro desse if\n",
    "    print('Saída 1')\n",
    "    \n",
    "if var_a > var_c: # 4 > 8 --> False, não roda o que tem dentro desse if\n",
    "    print('Saída 2')\n",
    "elif var_a > var_b + var_c: # 4 > -6 + 8 , ou seja, 4 > 2 --> True, roda o que tem dentro desse elif\n",
    "    print('Saída 3')\n",
    "else: # não roda esse else pq já rodou o elif anterior\n",
    "    print('Saída 4')\n",
    "    \n",
    "print('Saída 5') # imprime essa saída independente de condição"
   ]
  },
  {
   "cell_type": "markdown",
   "metadata": {},
   "source": [
    "Questão 6:\n",
    "Considere o seguinte trecho de código em Python:\n",
    "\n",
    "lista_1 = [0, 1, 2, 3, 4]\n",
    "lista_2 = lista_1[:]\n",
    "lista_2[0] = 42\n",
    "print(lista_1[0])\n",
    "Qual o valor exibido na tela, a partir da execução deste trecho de código?\n",
    "\n",
    "a) [0, 1, 2, 3, 4]\n",
    "b) 0\n",
    "c) 4\n",
    "d) [4, 3, 2, 1, 0]\n",
    "e) None\n",
    "\n",
    "RESPOSTA:\n",
    "\n",
    "Alternativa correta: b) 0\n",
    "\n",
    "Justificando:\n",
    "\n",
    "a) [0, 1, 2, 3, 4] --> O print do código imprime somente o elemento da posição \"0\" da lista \"lista_1\". Portanto, está errada.\n",
    "\n",
    "b) 0  --> O print do código imprime somente o elemento da posição \"0\" da lista \"lista_1\". Portanto, está correta.\n",
    "\n",
    "c) 4 --> O print do código imprime somente o elemento da posição \"0\" da lista \"lista_1\". Portanto, está errada.\n",
    "\n",
    "d) [4, 3, 2, 1, 0] --> O print do código imprime somente o elemento da posição \"0\" da lista \"lista_1\". Portanto, está errada.\n",
    "\n",
    "e) None --> Existe uma alternativa correta para essa questão.\n",
    "\n",
    "Para complementar as justificativas foram feitos testes com os comandos abaixo."
   ]
  },
  {
   "cell_type": "code",
   "execution_count": 21,
   "metadata": {},
   "outputs": [
    {
     "name": "stdout",
     "output_type": "stream",
     "text": [
      "0\n"
     ]
    }
   ],
   "source": [
    "lista_1 = [0, 1, 2, 3, 4]\n",
    "\n",
    "lista_2 = lista_1[:]\n",
    "\n",
    "lista_2[0] = 42\n",
    "\n",
    "print(lista_1[0]) # O print do código imprime somente o elemento da posição \"0\" da lista \"lista_1\""
   ]
  },
  {
   "cell_type": "markdown",
   "metadata": {},
   "source": [
    "\n",
    "Questão 7:\n",
    "Ao prospectar clientes, é importante que sejam mapeadas características capazes de definir perfis específicos, para que se possam estabelecer campanhas mais direcionadas a cada público. Dentre estas características, considerando o contexto de ofertas de produtos para clientes PJ de um banco, pode ser importante saber, por exemplo, quanto em média o cliente PJ fatura por dia em uma semana típica.\n",
    "\n",
    "Neste contexto, você precisa implementar um protótipo de uma solução, em Python, que faz o seguinte:\n",
    "\n",
    "recebe, como entrada, o faturamento total de cada dia de uma semana (recebendo, portanto, 7 números);\n",
    "exibe na tela, como saída, o faturamento diário médio (com base nas informações de faturamento da semana informada)."
   ]
  },
  {
   "cell_type": "code",
   "execution_count": 26,
   "metadata": {},
   "outputs": [
    {
     "name": "stdout",
     "output_type": "stream",
     "text": [
      "O fatumento médio diário é 4.0\n"
     ]
    }
   ],
   "source": [
    "lista_faturamento = [] # inicia a lista que vai receber os valores de faturamento total de cada dia de uma semana (recebendo, portanto, 7 números)\n",
    "\n",
    "for i in range(7): # a lista terá 7 elementos, ou seja, da posição 0 a 6.\n",
    "    faturamento = float(input('Digite o faturamento total do dia:')) # pede para digitar o faturamento do dia\n",
    "    lista_faturamento.append(faturamento) # insere o faturamento do dia depois da posição do último elemento\n",
    "    \n",
    "media = sum(lista_faturamento)/len(lista_faturamento) # cálcula a média\n",
    "print(f'O fatumento médio diário é {media}') # imprime o faturamento médio diário"
   ]
  },
  {
   "cell_type": "markdown",
   "metadata": {},
   "source": [
    "Questão 8:\n",
    "Trabalhando na equipe de facilities de um banco, muitas vezes você faz compras internacionais, e acaba se deparando com diversas unidades de medida que caracterizam os produtos: em alguns países, medidas como onça fluida, libra e pés são muito comuns para medir volume, massa e comprimento, respectivamente.\n",
    "\n",
    "Neste contexto, escreva um programa que seja uma calculadora para converter as medidas mencionadas acima para o sistema internacional (litro, quilograma e metro). Os fatores de conversão são os seguintes:\n",
    "\n",
    "1 onça fluida = 0,0295735 litros 1 libra = 0,453592 quilogramas 1 pé = 0,3048 metros\n",
    "\n",
    "A calculadora deve ser capaz de realizar tanto a conversão para o sistema internacional quanto a conversão de volta para as unidades originais.\n",
    "\n",
    "Seu programa deve receber os inputs adequados do usuário para que seja completamente especificada a quantidade a ser convertida, e quais as unidades envolvidas na conversão desejada. Por fim, o programa deve exibir na tela tanto o valor na unidade original quanto na unidade convertida.\n",
    "\n",
    "Exemplo: se o usuário quiser converter 5 libras para quilogramas, a mensagem a ser exibida na tela como resultado do programa deve ser: \"5.0 libras é igual a 2.26796 quilogramas.\"."
   ]
  },
  {
   "cell_type": "code",
   "execution_count": 29,
   "metadata": {},
   "outputs": [
    {
     "name": "stdout",
     "output_type": "stream",
     "text": [
      "5.0 libras é igual a 2.26796 quilogramas\n"
     ]
    }
   ],
   "source": [
    "unidade = int(input('Para inserir valores em SI digite \"1\", para outra unidade \"2\": '))\n",
    "\n",
    "conversao = int(input('Qual medida deseja converter? Digite \"1\" para volume, \"2\" para peso e \"3\" para comprimento'))\n",
    "\n",
    "if conversao == 1: # selecionar a conversão da medida de volume\n",
    "    \n",
    "    if unidade == 1: # medida SI --> Outra\n",
    "        volume_litro = float(input('Digite o volume em litro: ')) # recebe em SI\n",
    "        volume_onca = (1 / 0.0295735) * volume_litro # converte\n",
    "        print(f'{volume_litro} litros é igual a {volume_onca} onças.' )\n",
    "    else: # Outra medida --> SI\n",
    "        volume_onca = float(input('Digite o volume em onça: ')) # recebe em outra unidade\n",
    "        volume_litro = (0.0295735) * volume_onca # converte\n",
    "        print(f'{volume_onca} onças é igual a {volume_litro} litros.' )      \n",
    "\n",
    "elif conversao == 2: # selecionar a conversão da medida de peso\n",
    "    \n",
    "    if unidade == 1: # medida SI --> Outra\n",
    "        peso_kg = float(input('Digite o peso em quilogramas: ')) # recebe em SI\n",
    "        peso_libra = (1 / 0.453592) * peso_kg # converte\n",
    "        print(f'{peso_kg} quilogramas é igual a {peso_libra} libras.' )\n",
    "    else: # Outra medida --> SI\n",
    "        peso_libra = float(input('Digite o peso em libras: ')) # recebe em outra unidade\n",
    "        peso_kg = (0.453592) * peso_libra # converte\n",
    "        print(f'{peso_libra} libras é igual a {peso_kg} quilogramas.' )\n",
    "        \n",
    "elif conversao == 3: # selecionar a conversão da medida de comprimento\n",
    "    \n",
    "    if unidade == 1: # medida SI --> Outra\n",
    "        comp_metro = float(input('Digite o comprimento em metros: ')) # recebe em SI\n",
    "        comp_pe = (1 / 0.3048) * comp_metro # converte\n",
    "        print(f'{comp_metro} metros é igual a {comp_pe} pés.' )\n",
    "    else: # Outra medida --> SI\n",
    "        comp_pe = float(input('Digite o comprimento em pés: ')) # recebe em outra unidade\n",
    "        comp_metro = (0.3048) * comp_pe # converte\n",
    "        print(f'{comp_pe} pés é igual a {comp_metro} metros.' )\n",
    "        \n",
    "else:\n",
    "    print('Opção inválida para conversão de medida')\n"
   ]
  },
  {
   "cell_type": "markdown",
   "metadata": {},
   "source": [
    "Questão 9:\n",
    "Um conceito muito comum no mercado financeiro é o de média móvel. A ideia da média móvel é suavizar uma série temporal de dados para identificar tendências ao longo do tempo. Em vez de considerar cada ponto de dados individualmente, a média móvel calcula a média de um conjunto de dados dentro de uma janela de tempo específica, deslocando essa janela ao longo da série temporal.\n",
    "\n",
    "Em outras palavras: ao calcular a média móvel com janela de tamanho n para uma lista de valores, cada elemento da lista original é substituído pela média dos n elementos dentro da janela que termina no próprio elemento -- ou seja, a soma dos n-1 valores anteriores ao elemento com o valor do próprio elemento, dividido por n.\n",
    "\n",
    "Considere a lista de 10 valores a seguir: [3, 5, 8, 2, 7, 10, 3, 6, 9, 4].\n",
    "\n",
    "Escreva um programa que calcula a média móvel em janelas de 3 valores dessa lista (ou seja, n=3) e exiba na tela a lista resultante deste procedimento."
   ]
  },
  {
   "cell_type": "code",
   "execution_count": 30,
   "metadata": {},
   "outputs": [
    {
     "name": "stdout",
     "output_type": "stream",
     "text": [
      "[5.333333333333333, 5.0, 5.666666666666667, 6.333333333333333, 6.666666666666667, 6.333333333333333, 6.0, 6.333333333333333]\n"
     ]
    }
   ],
   "source": [
    "# Lista de valores\n",
    "valores = [3, 5, 8, 2, 7, 10, 3, 6, 9, 4]\n",
    "\n",
    "# Tamanho da janela\n",
    "n = 3\n",
    "\n",
    "# Lista para armazenar as médias móveis\n",
    "medias_moveis = []\n",
    "\n",
    "# Percorrer a lista calculando a média móvel para cada janela de 3 valores\n",
    "for i in range(len(valores) - n + 1):\n",
    "    # Selecionar a janela de valores\n",
    "    janela = valores[i:i+n]\n",
    "    \n",
    "    # Calcular a média dos valores da janela\n",
    "    media = sum(janela) / n\n",
    "    \n",
    "    # Adicionar a média à lista de médias móveis\n",
    "    medias_moveis.append(media)\n",
    "\n",
    "# Exibir a lista resultante de médias móveis\n",
    "print(medias_moveis)"
   ]
  },
  {
   "cell_type": "markdown",
   "metadata": {},
   "source": [
    "Questão 10:\n",
    "Um sistema de avaliação de saúde será desenvolvido por você para ajudar médicos do trabalho a avaliar a saúde de seus pacientes, que são funcionários de um grande banco.\n",
    "\n",
    "Os pacientes recebem uma nota de 0 a 100 para cada um dos seguintes critérios: preparo físico, alimentação saudável, saúde do coração e saúde mental.\n",
    "\n",
    "Um paciente com nota média acima de 70 é considerado saudável, enquanto pacientes com nota média abaixo de 70 são enviados para uma avaliação completa. Entretanto, caso a saúde do coração ou a saúde mental de um paciente estejam abaixo de 30, o paciente será encaminhado para uma avaliação completa independente da média.\n",
    "\n",
    "Escreva um programa que implementa a lógica acima, em que é exibido na tela o resultado da avaliação (\"paciente saudável\" ou \"paciente encaminhado para avaliação completa\") com base nas notas para os 4 critérios supracitados (você pode atribuir valores específicos para as notas para testar seu programa)."
   ]
  },
  {
   "cell_type": "code",
   "execution_count": 36,
   "metadata": {},
   "outputs": [
    {
     "name": "stdout",
     "output_type": "stream",
     "text": [
      "paciente saudável\n"
     ]
    }
   ],
   "source": [
    "# Notas do paciente para teste\n",
    "preparo_fisico = int(input('Digite uma nota para o preparo físico: ')) # ex 75\n",
    "alimentacao_saudavel = int(input('Digite uma nota para alimentação saudável: ')) # ex 80\n",
    "saude_coracao = int(input('Digite uma nota para a saúde do coração: ')) # ex 25, abaixo de 30, deve ser encaminhado\n",
    "saude_mental = int(input('Digite uma nota para a saúde mental: ')) # ex 85 , abaixo de 30, deve ser encaminhado\n",
    "\n",
    "# Avaliar o paciente\n",
    "\n",
    "# Calcular a média das notas\n",
    "media = (preparo_fisico + alimentacao_saudavel + saude_coracao + saude_mental) / 4\n",
    "\n",
    "# Verificar os critérios para encaminhamento\n",
    "if media < 70 or saude_coracao < 30 or saude_mental < 30:\n",
    "    print(\"paciente encaminhado para avaliação completa\") # Exibir o resultado da avaliação\n",
    "else:\n",
    "    print(\"paciente saudável\") # Exibir o resultado da avaliação\n",
    "\n",
    "\n"
   ]
  }
 ],
 "metadata": {
  "kernelspec": {
   "display_name": "Python 3",
   "language": "python",
   "name": "python3"
  },
  "language_info": {
   "codemirror_mode": {
    "name": "ipython",
    "version": 3
   },
   "file_extension": ".py",
   "mimetype": "text/x-python",
   "name": "python",
   "nbconvert_exporter": "python",
   "pygments_lexer": "ipython3",
   "version": "3.12.4"
  }
 },
 "nbformat": 4,
 "nbformat_minor": 2
}
