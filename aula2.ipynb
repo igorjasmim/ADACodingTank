{
 "cells": [
  {
   "cell_type": "markdown",
   "metadata": {},
   "source": [
    "Imagine que o critério de aprovação em uma escola seja a média superior a 7.0 e presença superior a 75%. Neste caso, o aluno precisa atender a ambos os critérios para ser aprovado. Se ele tirou uma ótima nota, mas faltou demais, será reprovado. Se ele compareceu a todas as aulas, mas teve notas baixas, idem."
   ]
  },
  {
   "cell_type": "code",
   "execution_count": 1,
   "metadata": {},
   "outputs": [
    {
     "name": "stdout",
     "output_type": "stream",
     "text": [
      "Aluno aprovado? True\n"
     ]
    }
   ],
   "source": [
    "media = float(input('Digite a média das provas:'))\n",
    "presenca = float(input('Digite o percentual de presença em valores decimais (por exemplo: 0.75 > 75%):'))\n",
    "\n",
    "aprovado = (media > 7) and (presenca > 0.75)\n",
    "\n",
    "print('Aluno aprovado?', aprovado)"
   ]
  },
  {
   "cell_type": "markdown",
   "metadata": {},
   "source": [
    "# Estrutura condicional"
   ]
  },
  {
   "cell_type": "code",
   "execution_count": null,
   "metadata": {},
   "outputs": [],
   "source": [
    "media = float(input('Digite a média das provas:'))\n",
    "\n",
    "if media > 7:\n",
    "    printa('Aprovado')"
   ]
  },
  {
   "cell_type": "code",
   "execution_count": null,
   "metadata": {},
   "outputs": [],
   "source": [
    "media = float(input('Digite a média das provas:'))\n",
    "\n",
    "if media > 7:\n",
    "    print('Aprovado')\n",
    "\n",
    "if media <= 7:\n",
    "    print('Reprovado')\n",
    "    "
   ]
  },
  {
   "cell_type": "code",
   "execution_count": 4,
   "metadata": {},
   "outputs": [
    {
     "name": "stdout",
     "output_type": "stream",
     "text": [
      "Aprovado\n"
     ]
    }
   ],
   "source": [
    "media = float(input('Digite a média das provas:'))\n",
    "\n",
    "if media > 7:\n",
    "    print('Aprovado')\n",
    "else:\n",
    "    print('Reprovado')"
   ]
  },
  {
   "cell_type": "code",
   "execution_count": null,
   "metadata": {},
   "outputs": [],
   "source": [
    "media = float(input('Digite a média das provas:'))\n",
    "presenca = float(input('Digite o percentual de presença em valores decimais (por exemplo: 0.75 > 75%):'))\n",
    "\n",
    "if media > 7 and presenca > 0.75:\n",
    "    print('Aprovado')\n",
    "else:\n",
    "    print('Reprovado')"
   ]
  },
  {
   "cell_type": "code",
   "execution_count": 6,
   "metadata": {},
   "outputs": [
    {
     "name": "stdout",
     "output_type": "stream",
     "text": [
      "Recuperação\n"
     ]
    }
   ],
   "source": [
    "media = float(input('Digite a média das provas:'))\n",
    "\n",
    "if media >= 7:\n",
    "    print('Aprovado')\n",
    "\n",
    "if media >= 5 and media < 7:\n",
    "    print('Recuperação')\n",
    "\n",
    "if media < 5:\n",
    "    print('Reprovado')"
   ]
  },
  {
   "cell_type": "code",
   "execution_count": null,
   "metadata": {},
   "outputs": [],
   "source": [
    "media = float(input('Digite a média das provas:'))\n",
    "\n",
    "if media >= 7:\n",
    "    print('Aprovado')\n",
    "elif media >= 5 and media < 7:\n",
    "    print('Recuperação')\n",
    "else:\n",
    "    print('Reprovado')"
   ]
  },
  {
   "cell_type": "code",
   "execution_count": null,
   "metadata": {},
   "outputs": [],
   "source": [
    "media = float(input('Digite a média das provas:'))\n",
    "\n",
    "if media >= 7:\n",
    "    print('Aprovado')\n",
    "elif media >= 5: # só vai chegar aqui se for obrigatoriamente menor que 7\n",
    "    print('Recuperação')\n",
    "else:\n",
    "    print('Reprovado')"
   ]
  },
  {
   "cell_type": "code",
   "execution_count": 7,
   "metadata": {},
   "outputs": [
    {
     "name": "stdout",
     "output_type": "stream",
     "text": [
      "Aprovado\n"
     ]
    }
   ],
   "source": [
    "media = float(input('Digite a média das provas:'))\n",
    "\n",
    "if media < 5:\n",
    "    print('Reprovado')\n",
    "elif media < 7:\n",
    "    print('Recuperação')\n",
    "else:\n",
    "    print('Aprovado')"
   ]
  },
  {
   "cell_type": "code",
   "execution_count": 9,
   "metadata": {},
   "outputs": [
    {
     "name": "stdout",
     "output_type": "stream",
     "text": [
      "Reprovado\n"
     ]
    }
   ],
   "source": [
    "media = float(input('Digite a média das provas:'))\n",
    "presenca = float(input('Digite o percentual de presença em valores decimais (por exemplo: 0.75 > 75%):'))\n",
    "\n",
    "\n",
    "if media < 0 or media > 10 or presenca < 0 or presenca > 1:\n",
    "    print('Valor digitado não compatível')\n",
    "elif media >= 7 and presenca >= 0.75:\n",
    "    print('Aprovado')\n",
    "elif media > 5 and presenca >= 0.75: # só vai chegar aqui se for obrigatoriamente menor que 7\n",
    "    print('Recuperação')\n",
    "else:\n",
    "    print('Reprovado')"
   ]
  },
  {
   "cell_type": "markdown",
   "metadata": {},
   "source": [
    "1) Faça um programa que peça a idade do usuário e imprima se ele é maior ou menor de 18 anos.\n"
   ]
  },
  {
   "cell_type": "code",
   "execution_count": 10,
   "metadata": {},
   "outputs": [
    {
     "name": "stdout",
     "output_type": "stream",
     "text": [
      "Menor de idade\n"
     ]
    }
   ],
   "source": [
    "idade = int(input('Digite sua idade:'))\n",
    "\n",
    "if idade >= 18:\n",
    "    print('Maior de idade')\n",
    "else:\n",
    "    print('Menor de idade')"
   ]
  },
  {
   "cell_type": "markdown",
   "metadata": {},
   "source": [
    "\n",
    "2) Faça um programa que peça um número e mostre se ele é positivo ou negativo. Alternativa: acrescentar nulo\n"
   ]
  },
  {
   "cell_type": "code",
   "execution_count": 13,
   "metadata": {},
   "outputs": [
    {
     "name": "stdout",
     "output_type": "stream",
     "text": [
      "O número é negativo\n"
     ]
    }
   ],
   "source": [
    "num = float(input('Digite um número -inf até +inf:'))\n",
    "\n",
    "if num > 0:\n",
    "    print('O número é positivo')\n",
    "elif num == 0:\n",
    "    print('Nulo')\n",
    "else:\n",
    "    print('O número é negativo')"
   ]
  },
  {
   "cell_type": "markdown",
   "metadata": {},
   "source": [
    "\n",
    "3) Faça um programa que peça dois números e mostre o maior deles.\n"
   ]
  },
  {
   "cell_type": "code",
   "execution_count": null,
   "metadata": {},
   "outputs": [],
   "source": [
    "num1 = float(input('Digite o primeiro número:'))\n",
    "num2 = float(input('Digite o segundo número:'))\n",
    "\n",
    "if num1 > num2:\n",
    "    print('O primeiro número é maior:', num1)\n",
    "elif num1 < num2:\n",
    "    print('O segundo número é maior:', num2)\n",
    "else:\n",
    "    print('Os números são iguais:', num1,'=',num2)"
   ]
  },
  {
   "cell_type": "markdown",
   "metadata": {},
   "source": [
    "\n",
    "4) Faça um programa que leia a validade das informações:\n",
    "\n",
    "a. Idade: entre 0 e 150;\n",
    "\n",
    "b. Salário: maior que 0;\n",
    "\n",
    "c. Sexo: M, F ou Outro;\n",
    "\n",
    "O programa deve imprimir uma mensagem de erro para cada informação inválida."
   ]
  },
  {
   "cell_type": "code",
   "execution_count": 4,
   "metadata": {},
   "outputs": [],
   "source": [
    "idade = int(input('Digite sua idade:'))\n",
    "salario = float(input('Digite seu salário:'))\n",
    "sexo = input('Digite seu sexo M, F ou Outro:')\n",
    "\n",
    "if idade <= 0 or idade >= 150:\n",
    "    print('Idade inválida')\n",
    "    \n",
    "if salario <= 0:\n",
    "    print('Salário inválido')\n",
    "    \n",
    "if sexo != 'M' and sexo != 'F' and sexo != 'Outro':\n",
    "    print('Sexo inválido')"
   ]
  },
  {
   "cell_type": "code",
   "execution_count": 9,
   "metadata": {},
   "outputs": [
    {
     "name": "stdout",
     "output_type": "stream",
     "text": [
      "VAMOS PROGRAMAR\n",
      "vamos programar\n",
      "Vamos Programar\n",
      "Vamos programar\n"
     ]
    }
   ],
   "source": [
    "frase = 'VaMoS PrOgRaMaR'\n",
    "\n",
    "maiuscula = frase.upper()\n",
    "print(maiuscula)\n",
    "\n",
    "minuscula = frase.lower()\n",
    "print(minuscula)\n",
    "\n",
    "titulo = frase.title()\n",
    "print(titulo)\n",
    "\n",
    "capitalizada = frase.capitalize()\n",
    "print(capitalizada)"
   ]
  },
  {
   "cell_type": "code",
   "execution_count": null,
   "metadata": {},
   "outputs": [],
   "source": [
    "usuario = input('Digite sim se aceita o termo de uso:')\n",
    "\n",
    "if usuario.upper() == 'SIM':"
   ]
  },
  {
   "cell_type": "markdown",
   "metadata": {},
   "source": [
    "## Bora praticar!\n",
    "\n",
    "5) Escreva um programa que peça a nota de 3 provas de um aluno e verifique se ele passou ou não de ano.\n",
    "Obs.: O aluno irá passar de ano se sua média for maior que 6.\n"
   ]
  },
  {
   "cell_type": "code",
   "execution_count": 16,
   "metadata": {},
   "outputs": [
    {
     "name": "stdout",
     "output_type": "stream",
     "text": [
      "Aluno aprovado\n"
     ]
    }
   ],
   "source": [
    "nota1 = float(input('Digite a nota da primeira prova:'))\n",
    "nota2 = float(input('Digite a nota da segunda prova:'))\n",
    "nota3 = float(input('Digite a nota da terceira prova:'))\n",
    "\n",
    "media = (nota1 + nota2 + nota3) / 3\n",
    "\n",
    "if media > 6:\n",
    "    print('Aluno aprovado')\n",
    "else:\n",
    "    print('Aluno reprovado')"
   ]
  },
  {
   "cell_type": "markdown",
   "metadata": {},
   "source": [
    "6) Faça um programa que mostre uma questão de múltipla escolha com 5 opções (letras a, b, c, d, e). \n",
    "Sabendo a resposta certa, o programa deve receber a opção do usuário e informar a letra que o usuário marcou e se a resposta está certa ou errada.\n"
   ]
  },
  {
   "cell_type": "code",
   "execution_count": 13,
   "metadata": {},
   "outputs": [
    {
     "name": "stdout",
     "output_type": "stream",
     "text": [
      "Para a equação matemática x + 1 = 2, qual o valor de x. Marque a opção correta.\n",
      "a) x = 1\n",
      "b) x = 2\n",
      "c) x = 3\n",
      "d) x = 4\n",
      "O usuário marcou a opção a.\n",
      "A resposta está certa.\n"
     ]
    }
   ],
   "source": [
    "print('Para a equação matemática x + 1 = 2, qual o valor de x. Marque a opção correta.')\n",
    "print('a) x = 1\\nb) x = 2\\nc) x = 3\\nd) x = 4')\n",
    "resposta = input('Digite a opção correta.')\n",
    "\n",
    "if resposta.lower() == 'a':\n",
    "    print(f'O usuário marcou a opção {resposta}.\\nA resposta está certa.')\n",
    "else:\n",
    "    print(f'O usuário marcou a opção {resposta}.\\nA resposta está errada.')"
   ]
  },
  {
   "cell_type": "markdown",
   "metadata": {},
   "source": [
    "\n",
    "7) Vamos fazer um programa para verificar quem é o assassino de um crime. Para descobrir o assassino, \n",
    "a polícia faz um pequeno questionário com 5 perguntas \n",
    "onde a resposta só pode ser sim ou não:\n",
    "\n",
    "a. Mora perto da vítima?\n",
    "\n",
    "b. Já trabalhou com a vítima?\n",
    "\n",
    "c. Telefonou para a vítima?\n",
    "\n",
    "d. Esteve no local do crime?\n",
    "\n",
    "e. Devia para a vítima?\n",
    "\n",
    "Cada resposta sim dá um ponto para o suspeito. A polícia considera que os suspeitos com 5 pontos são os assassinos, com 4 a 3 pontos \n",
    "são cúmplices e 2 pontos são apenas suspeitos, necessitando outras investigações. Valores iguais ou abaixo de 1 são liberados.\n"
   ]
  },
  {
   "cell_type": "code",
   "execution_count": 20,
   "metadata": {},
   "outputs": [
    {
     "name": "stdout",
     "output_type": "stream",
     "text": [
      "Você é suspeito\n"
     ]
    }
   ],
   "source": [
    "a = input('Você mora perto da vítima? (SIM/NÃO)')\n",
    "if a.upper() == 'SIM':\n",
    "    num1 = 1\n",
    "else:\n",
    "    num1 = 0\n",
    "    \n",
    "b = input('Já trabalhou com a vítima? (SIM/NÃO)')\n",
    "if b.upper() == 'SIM':\n",
    "    num2 = 1\n",
    "else:\n",
    "    num2 = 0\n",
    "    \n",
    "c = input('Telefonou para a vítima? (SIM/NÃO)')\n",
    "if c.upper() == 'SIM':\n",
    "    num3 = 1\n",
    "else:\n",
    "    num3 = 0\n",
    "\n",
    "d = input('Esteve no local do crime? (SIM/NÃO)')\n",
    "if d.upper() == 'SIM':\n",
    "    num4 = 1\n",
    "else:\n",
    "    num4 = 0\n",
    "\n",
    "e = input('Devia para a vítima? (SIM/NÃO)')\n",
    "if e.upper() == 'SIM':\n",
    "    num5 = 1\n",
    "else:\n",
    "    num5 = 0\n",
    "\n",
    "soma = num1 + num2 + num3 + num4 + num5\n",
    "\n",
    "if soma == 5:\n",
    "    print('Você é assasino')\n",
    "elif soma == 4 or soma == 3:\n",
    "    print('Você é cúmplice')\n",
    "elif soma == 2:\n",
    "    print('Você é suspeito')\n",
    "else:\n",
    "    print('Você está liberado')\n"
   ]
  },
  {
   "cell_type": "markdown",
   "metadata": {},
   "source": [
    "\n",
    "8) Um produto vai sofrer aumento de acordo com a Tabela 1 abaixo. Faça um programa que peça para o usuário digitar o valor do produto de acordo \n",
    "com o preço antigo e escreva uma das mensagens da Tabela 2, de acordo com o preço reajustado:\n",
    "\n",
    "Tabela 1\n",
    "\n",
    "| Preço Antigo         | % de aumento |\n",
    "|----------------------|--------------|\n",
    "| Até 50 reais         | 5%           |\n",
    "| Entre 50 e 100 reais | 10%          |\n",
    "| De 100 a 150 reais   | 13%          |\n",
    "| Acima de 150 reais   | 15%          |\n",
    "Tabela 2\n",
    "\n",
    "| Preço Novo            | Mensagem   |\n",
    "|-----------------------|------------|\n",
    "| Até 80 reais          | Barato     |\n",
    "| Entre 80 e 115 reais  | Razoável   |\n",
    "| Entre 115 e 150 reais | Normal     |\n",
    "| Entre 150 e 170 reais | Caro       |\n",
    "| Acima de 170 reais    | Muito Caro |\n"
   ]
  },
  {
   "cell_type": "code",
   "execution_count": 22,
   "metadata": {},
   "outputs": [
    {
     "name": "stdout",
     "output_type": "stream",
     "text": [
      "Barato\n"
     ]
    }
   ],
   "source": [
    "valor_inicial = float(input('Digite o valor do produto em R$:'))\n",
    "\n",
    "if valor_inicial <= 0:\n",
    "    print('Valor inválido')\n",
    "elif valor_inicial <= 50:\n",
    "    valor_final = valor_inicial * 1.05\n",
    "elif valor_inicial > 50 and valor_inicial < 100:\n",
    "    valor_final = valor_inicial * 1.10\n",
    "elif valor_inicial >= 100 and valor_inicial <= 150:\n",
    "    valor_final = valor_inicial * 1.13\n",
    "else:\n",
    "    valor_final = valor_inicial * 1.15\n",
    "    \n",
    "if valor_final <= 80:\n",
    "    print('Barato')\n",
    "elif valor_final > 80 and valor_final <= 115:\n",
    "    print('Razoável')\n",
    "elif valor_final > 115 and valor_final <= 150:\n",
    "    print('Normal')\n",
    "elif valor_final > 150 and valor_final <= 170:\n",
    "    print('Caro')\n",
    "else:\n",
    "    print('Muito Caro')"
   ]
  },
  {
   "cell_type": "markdown",
   "metadata": {},
   "source": [
    "\n",
    "9) Desafio 1 - Faça um programa que leia 3 números e informe o maior deles.\n"
   ]
  },
  {
   "cell_type": "code",
   "execution_count": 36,
   "metadata": {},
   "outputs": [
    {
     "name": "stdout",
     "output_type": "stream",
     "text": [
      "O maior número é 1.0\n"
     ]
    }
   ],
   "source": [
    "num1 = float(input('Digite o primeiro número:'))\n",
    "num2 = float(input('Digite o segundo número:'))\n",
    "num3 = float(input('Digite o terceiro número:'))\n",
    "\n",
    "if num1 == num2 and num1 == num3:\n",
    "    print(f'Os números são iguais e o maior é {num1}')\n",
    "elif num1 > num2 and num1 > num3:\n",
    "    print(f'O maior número é {num1}')\n",
    "elif num2 > num1 and num2 > num3:\n",
    "    print(f'O maior número é {num2}')\n",
    "elif num3 > num1 and num3 > num2:\n",
    "    print(f'O maior número é {num3}')\n",
    "elif num1 == num2 or num1 == num3:\n",
    "    if num1 >= num2 or num1 >= num3:\n",
    "        print(f'O maior número é {num1}')\n",
    "    elif num2 > num3:\n",
    "        print(f'O maior número é {num2}')\n",
    "    else:\n",
    "        print(f'O maior número é {num3}')\n",
    "elif num2 == num1 or num2 == num3:\n",
    "    if num2 >= num1 or num2 >= num3:\n",
    "        print(f'O maior número é {num2}')\n",
    "    elif num1 > num3:\n",
    "        print(f'O maior número é {num1}')\n",
    "    else:\n",
    "        print(f'O maior número é {num3}')\n",
    "else:\n",
    "    if num3 >= num2 or num3 >= num1:\n",
    "        print(f'O maior número é {num3}')\n",
    "    elif num2 > num1:\n",
    "        print(f'O maior número é {num2}')\n",
    "    else:\n",
    "        print(f'O maior número é {num1}')\n"
   ]
  }
 ],
 "metadata": {
  "kernelspec": {
   "display_name": "Python 3",
   "language": "python",
   "name": "python3"
  },
  "language_info": {
   "codemirror_mode": {
    "name": "ipython",
    "version": 3
   },
   "file_extension": ".py",
   "mimetype": "text/x-python",
   "name": "python",
   "nbconvert_exporter": "python",
   "pygments_lexer": "ipython3",
   "version": "3.12.4"
  }
 },
 "nbformat": 4,
 "nbformat_minor": 2
}
