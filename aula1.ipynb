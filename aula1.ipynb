{
 "cells": [
  {
   "cell_type": "code",
   "execution_count": 1,
   "metadata": {},
   "outputs": [
    {
     "data": {
      "text/plain": [
       "str"
      ]
     },
     "execution_count": 1,
     "metadata": {},
     "output_type": "execute_result"
    }
   ],
   "source": [
    "nome = 'Bruno'\n",
    "type(nome)"
   ]
  },
  {
   "cell_type": "code",
   "execution_count": 8,
   "metadata": {},
   "outputs": [
    {
     "data": {
      "text/plain": [
       "int"
      ]
     },
     "execution_count": 8,
     "metadata": {},
     "output_type": "execute_result"
    }
   ],
   "source": [
    "idade = 13\n",
    "type(idade)"
   ]
  },
  {
   "cell_type": "code",
   "execution_count": 9,
   "metadata": {},
   "outputs": [
    {
     "data": {
      "text/plain": [
       "13"
      ]
     },
     "execution_count": 9,
     "metadata": {},
     "output_type": "execute_result"
    }
   ],
   "source": [
    "idade"
   ]
  },
  {
   "cell_type": "code",
   "execution_count": 13,
   "metadata": {},
   "outputs": [
    {
     "data": {
      "text/plain": [
       "bool"
      ]
     },
     "execution_count": 13,
     "metadata": {},
     "output_type": "execute_result"
    }
   ],
   "source": [
    "certificado = True # verdadeiro\n",
    "type(certificado)"
   ]
  },
  {
   "cell_type": "code",
   "execution_count": 11,
   "metadata": {},
   "outputs": [
    {
     "data": {
      "text/plain": [
       "bool"
      ]
     },
     "execution_count": 11,
     "metadata": {},
     "output_type": "execute_result"
    }
   ],
   "source": [
    "certificado = False # falso\n",
    "type(certificado)"
   ]
  },
  {
   "cell_type": "code",
   "execution_count": 15,
   "metadata": {},
   "outputs": [
    {
     "data": {
      "text/plain": [
       "'31'"
      ]
     },
     "execution_count": 15,
     "metadata": {},
     "output_type": "execute_result"
    }
   ],
   "source": [
    "input('insira a sua idade')"
   ]
  },
  {
   "cell_type": "code",
   "execution_count": 17,
   "metadata": {},
   "outputs": [
    {
     "data": {
      "text/plain": [
       "'31'"
      ]
     },
     "execution_count": 17,
     "metadata": {},
     "output_type": "execute_result"
    }
   ],
   "source": [
    "idade = input('Insira a sua idade')\n",
    "idade"
   ]
  },
  {
   "cell_type": "code",
   "execution_count": 18,
   "metadata": {},
   "outputs": [
    {
     "data": {
      "text/plain": [
       "12"
      ]
     },
     "execution_count": 18,
     "metadata": {},
     "output_type": "execute_result"
    }
   ],
   "source": [
    "num = 12.7\n",
    "int(num)"
   ]
  },
  {
   "cell_type": "markdown",
   "metadata": {},
   "source": [
    "# Saídas"
   ]
  },
  {
   "cell_type": "code",
   "execution_count": 19,
   "metadata": {},
   "outputs": [
    {
     "name": "stdout",
     "output_type": "stream",
     "text": [
      "oi mundo\n"
     ]
    }
   ],
   "source": [
    "print('oi mundo')"
   ]
  },
  {
   "cell_type": "code",
   "execution_count": 20,
   "metadata": {},
   "outputs": [
    {
     "name": "stdout",
     "output_type": "stream",
     "text": [
      "Meu nome é Igor Meu sobrenome é Jasmim\n"
     ]
    }
   ],
   "source": [
    "print('Meu nome é Igor Meu sobrenome é Jasmim')"
   ]
  },
  {
   "cell_type": "code",
   "execution_count": 21,
   "metadata": {},
   "outputs": [
    {
     "name": "stdout",
     "output_type": "stream",
     "text": [
      "Meu nome é Igor \n",
      "Meu sobrenome é Jasmim\n"
     ]
    }
   ],
   "source": [
    "print('Meu nome é Igor \\nMeu sobrenome é Jasmim') #\\n é usado para pular linha"
   ]
  },
  {
   "cell_type": "code",
   "execution_count": null,
   "metadata": {},
   "outputs": [],
   "source": [
    "print('Meu nome é Igor \\nMeu sobrenome é Jasmim') #\\t é usado para tabulação"
   ]
  },
  {
   "cell_type": "markdown",
   "metadata": {},
   "source": [
    "### Mais de um argumento\n",
    "\n",
    "print com mais de 1 arguemento"
   ]
  },
  {
   "cell_type": "code",
   "execution_count": 22,
   "metadata": {},
   "outputs": [
    {
     "name": "stdout",
     "output_type": "stream",
     "text": [
      "olá meu nome é Igor tenho 31 anos.\n"
     ]
    }
   ],
   "source": [
    "print('olá','meu nome é Igor','tenho 31 anos.')"
   ]
  },
  {
   "cell_type": "code",
   "execution_count": null,
   "metadata": {},
   "outputs": [],
   "source": [
    "print(\"também podemos usar o argumento end\",end='.')"
   ]
  },
  {
   "cell_type": "code",
   "execution_count": 24,
   "metadata": {},
   "outputs": [
    {
     "name": "stdout",
     "output_type": "stream",
     "text": [
      "Meu nome é Igor Jasmim e tenho 31 anos\n"
     ]
    }
   ],
   "source": [
    "nome = 'Igor'\n",
    "sobrenome = 'Jasmim'\n",
    "idade = 31\n",
    "\n",
    "print('Meu nome é',nome,sobrenome,'e tenho',idade,'anos')\n"
   ]
  },
  {
   "cell_type": "code",
   "execution_count": 26,
   "metadata": {},
   "outputs": [
    {
     "name": "stdout",
     "output_type": "stream",
     "text": [
      "Meu nome é Igor Jasmim e tenho 31 anos\n",
      "Meu nome é Igor Jasmim e tenho 31 anos\n"
     ]
    }
   ],
   "source": [
    "print('Meu nome é {} {} e tenho {} anos'.format(nome, sobrenome, idade))\n",
    "\n",
    "print(f'Meu nome é {nome} {sobrenome} e tenho {idade} anos')"
   ]
  },
  {
   "cell_type": "markdown",
   "metadata": {},
   "source": [
    "# Bora praticar!\n",
    "\n",
    "Escrever um programa."
   ]
  },
  {
   "cell_type": "code",
   "execution_count": 28,
   "metadata": {},
   "outputs": [
    {
     "name": "stdout",
     "output_type": "stream",
     "text": [
      "Meu nome é Igor, tenho 31 anos e meu hobby é ir ao cinema.\n"
     ]
    }
   ],
   "source": [
    "nome = input('Qual o seu nome?')\n",
    "idade = int(input('Qual sua idade?'))\n",
    "hobby = input('O que você tem como hobby?')\n",
    "\n",
    "print(f'Meu nome é {nome}, tenho {idade} anos e meu hobby é {hobby}.')"
   ]
  },
  {
   "cell_type": "markdown",
   "metadata": {},
   "source": [
    "# Operadores Algébricos e de Atribuição"
   ]
  },
  {
   "cell_type": "code",
   "execution_count": 29,
   "metadata": {},
   "outputs": [
    {
     "name": "stdout",
     "output_type": "stream",
     "text": [
      "35\n"
     ]
    }
   ],
   "source": [
    "var1 = 10\n",
    "var2 = 25\n",
    "print(var1 + var2)"
   ]
  },
  {
   "cell_type": "code",
   "execution_count": 31,
   "metadata": {},
   "outputs": [
    {
     "name": "stdout",
     "output_type": "stream",
     "text": [
      "Valor de x =  5\n",
      "Valor de y =  2\n",
      "Valor de z =  7\n",
      "Novo valor de x =  6\n"
     ]
    }
   ],
   "source": [
    "x = 5\n",
    "y = 2\n",
    "\n",
    "z = x + y\n",
    "print('Valor de x = ', x)\n",
    "print('Valor de y = ', y)\n",
    "print('Valor de z = ', z)\n",
    "\n",
    "x = x + 1\n",
    "\n",
    "print('Novo valor de x = ', x)"
   ]
  },
  {
   "cell_type": "markdown",
   "metadata": {},
   "source": [
    "## Bora praticar!"
   ]
  },
  {
   "cell_type": "code",
   "execution_count": 34,
   "metadata": {},
   "outputs": [
    {
     "name": "stdout",
     "output_type": "stream",
     "text": [
      "Você tem 31 anos.\n",
      "Você tem 31 anos.\n"
     ]
    }
   ],
   "source": [
    "ano = int(input('Insira o ano do seu nascimento: '))\n",
    "\n",
    "print (f'Você tem {2024 - ano} anos.')\n",
    "\n",
    "ano_atual = 2024\n",
    "\n",
    "idade = ano_atual - ano\n",
    "\n",
    "print (f'Você tem {idade} anos.')\n"
   ]
  },
  {
   "cell_type": "markdown",
   "metadata": {},
   "source": [
    "## Operadores de Comparação"
   ]
  },
  {
   "cell_type": "markdown",
   "metadata": {},
   "source": [
    "## Bora praticar! ##\n",
    "\n",
    "Imagine que você está implementando um sistema para verificar se os alunos de uma turma estudantil passaram na disciplina ou não. Para isso solicite que o usuário insira as notas das 4 provas realizadas por um estudante e calcule a média. Após isso, emita uma resposta booleana (True ou False) se o estudante passou na disciplina pensando que a média mínima para aprovação é que seja pelo menos 5."
   ]
  },
  {
   "cell_type": "code",
   "execution_count": 7,
   "metadata": {},
   "outputs": [
    {
     "name": "stdout",
     "output_type": "stream",
     "text": [
      "O aluno está aprovado? True \n",
      "A média do aluno é: 5.0\n"
     ]
    }
   ],
   "source": [
    "nota1 = float(input('Insira a primeira nota: '))\n",
    "nota2 = float(input('Insira a segunda nota: '))\n",
    "nota3 = float(input('Insira a terceira nota: '))\n",
    "nota4 = float(input('Insira a quarta nota: '))\n",
    "\n",
    "media = (nota1 + nota2 + nota3 + nota4) / 4\n",
    "\n",
    "print('O aluno está aprovado?', media >= 5, '\\nA média do aluno é:', media)\n"
   ]
  },
  {
   "cell_type": "markdown",
   "metadata": {},
   "source": [
    "Crie um algoritmo que calcule o IMC (índice de massa corporal). O IMC é calculado com a formula PESO/(ALTURA ^ 2). Para isso, coloque as informações nas variáveis e ao final apresente o resultado como no exemplo: \"O IMC é 18\""
   ]
  },
  {
   "cell_type": "code",
   "execution_count": 6,
   "metadata": {},
   "outputs": [
    {
     "name": "stdout",
     "output_type": "stream",
     "text": [
      "O IMC é 30\n"
     ]
    }
   ],
   "source": [
    "peso = float(input('Digite o seu peso em kg: '))\n",
    "altura = float(input('Digite sua altura em metros:'))\n",
    "\n",
    "imc = peso / (altura**2)\n",
    "\n",
    "print('O IMC é', int(imc))"
   ]
  },
  {
   "cell_type": "markdown",
   "metadata": {},
   "source": [
    "Escreva um algoritmo que calcule (x + y) * (x + y). Os valores de x e y devem ser inseridos pelo usuário."
   ]
  },
  {
   "cell_type": "code",
   "execution_count": 5,
   "metadata": {},
   "outputs": [
    {
     "name": "stdout",
     "output_type": "stream",
     "text": [
      "9.0\n"
     ]
    }
   ],
   "source": [
    "x = float(input('Digite um valor numérico para x: '))\n",
    "y = float(input('Digite um valor numérico para y: '))\n",
    "\n",
    "z = (x + y) * (x + y)\n",
    "print(z)"
   ]
  }
 ],
 "metadata": {
  "kernelspec": {
   "display_name": "Python 3",
   "language": "python",
   "name": "python3"
  },
  "language_info": {
   "codemirror_mode": {
    "name": "ipython",
    "version": 3
   },
   "file_extension": ".py",
   "mimetype": "text/x-python",
   "name": "python",
   "nbconvert_exporter": "python",
   "pygments_lexer": "ipython3",
   "version": "3.12.4"
  }
 },
 "nbformat": 4,
 "nbformat_minor": 2
}
