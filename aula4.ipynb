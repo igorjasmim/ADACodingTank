{
 "cells": [
  {
   "cell_type": "code",
   "execution_count": 7,
   "metadata": {},
   "outputs": [],
   "source": [
    "lista_1 = [] # lista vazia\n",
    "\n",
    "lista_2 = [1, 2, 3, 4]\n",
    "\n",
    "lista_3 = list() # Cria uma lista vazia a partir da função\n",
    "\n",
    "lista_4 = [1, 2.5, 5]\n",
    "\n",
    "lista_5 = [1, 2.5, 'três'] # a lista aceita qualquer tipo de dado\n",
    "\n",
    "lista_6 = [1, [2, 3]]\n",
    "\n",
    "lista_7 = [1, 2.5, True, [2, 6], 'quatro']\n",
    "\n",
    "lista_8 = [1, 5, lista_2, lista_3]"
   ]
  },
  {
   "cell_type": "code",
   "execution_count": 1,
   "metadata": {},
   "outputs": [],
   "source": [
    "#índices:0  1  2  3  4  5  6  7  8  9\n",
    "lista = [1, 2, 3, 4, 5, 6, 7, 8, 9, 10]\n",
    "\n",
    "# O python sempre começa com ZERO\n",
    "# índices >> posição de cada elemento"
   ]
  },
  {
   "cell_type": "code",
   "execution_count": 2,
   "metadata": {},
   "outputs": [
    {
     "name": "stdout",
     "output_type": "stream",
     "text": [
      "[1, 2, 3, 4, 5, 6, 7, 8, 9, 10]\n"
     ]
    }
   ],
   "source": [
    "print(lista)"
   ]
  },
  {
   "cell_type": "code",
   "execution_count": 3,
   "metadata": {},
   "outputs": [
    {
     "data": {
      "text/plain": [
       "10"
      ]
     },
     "execution_count": 3,
     "metadata": {},
     "output_type": "execute_result"
    }
   ],
   "source": [
    "# Funções\n",
    "len(lista)"
   ]
  },
  {
   "cell_type": "code",
   "execution_count": 4,
   "metadata": {},
   "outputs": [
    {
     "data": {
      "text/plain": [
       "3"
      ]
     },
     "execution_count": 4,
     "metadata": {},
     "output_type": "execute_result"
    }
   ],
   "source": [
    "# Acessando os valores a partir dos índices\n",
    "lista[2]\n"
   ]
  },
  {
   "cell_type": "code",
   "execution_count": null,
   "metadata": {},
   "outputs": [],
   "source": [
    "lista[9]"
   ]
  },
  {
   "cell_type": "code",
   "execution_count": 8,
   "metadata": {},
   "outputs": [
    {
     "name": "stdout",
     "output_type": "stream",
     "text": [
      "1\n",
      "2\n"
     ]
    },
    {
     "data": {
      "text/plain": [
       "'três'"
      ]
     },
     "execution_count": 8,
     "metadata": {},
     "output_type": "execute_result"
    }
   ],
   "source": [
    "print(lista[0])\n",
    "\n",
    "print(lista[1])\n",
    "\n",
    "lista_5[-1]"
   ]
  },
  {
   "cell_type": "code",
   "execution_count": 15,
   "metadata": {},
   "outputs": [
    {
     "name": "stdout",
     "output_type": "stream",
     "text": [
      "[1, 2, 3, 4, 5, 6, 7, 8, 9, 10]\n",
      "[1, 2, 3]\n",
      "[1, 2, 3]\n",
      "[7, 8, 9, 10]\n",
      "[7, 8, 9, 10]\n",
      "[]\n",
      "[7, 8, 9]\n",
      "[3, 4, 5, 6, 7, 8]\n",
      "[2, 4, 6, 8]\n"
     ]
    }
   ],
   "source": [
    "print(lista[:])\n",
    "\n",
    "print(lista[0:3])\n",
    "\n",
    "print(lista[:3])\n",
    "\n",
    "print(lista[6:])\n",
    "\n",
    "print(lista[6:100])\n",
    "\n",
    "print(lista[6:3])\n",
    "\n",
    "print(lista[6:-1])\n",
    "\n",
    "print(lista[2:8])\n",
    "\n",
    "print(lista[1:8:2]) # índices Início:Fim(não incluso):Passo"
   ]
  },
  {
   "cell_type": "code",
   "execution_count": 17,
   "metadata": {},
   "outputs": [
    {
     "name": "stdout",
     "output_type": "stream",
     "text": [
      "[1, 2, 13, 4, 5, 6, 7, 8, 9, 10, 99]\n"
     ]
    }
   ],
   "source": [
    "# substituição de valores\n",
    "\n",
    "lista[2] = 13\n",
    "print(lista)"
   ]
  },
  {
   "cell_type": "code",
   "execution_count": 18,
   "metadata": {},
   "outputs": [
    {
     "name": "stdout",
     "output_type": "stream",
     "text": [
      "[1, 2, 13, 4, 5, 6, 7, 8, 9, 10, 99, 99]\n"
     ]
    }
   ],
   "source": [
    "lista.append(99)\n",
    "print(lista)"
   ]
  },
  {
   "cell_type": "code",
   "execution_count": 19,
   "metadata": {},
   "outputs": [
    {
     "name": "stdout",
     "output_type": "stream",
     "text": [
      "[1, 2, 3, 4]\n",
      "[1, 2.5, 5]\n",
      "[1, 2, 3, 4, 1, 2.5, 5]\n"
     ]
    }
   ],
   "source": [
    "print(lista_2)\n",
    "print(lista_4)\n",
    "print(lista_2 + lista_4)"
   ]
  },
  {
   "cell_type": "code",
   "execution_count": 20,
   "metadata": {},
   "outputs": [
    {
     "name": "stdout",
     "output_type": "stream",
     "text": [
      "[1, 2, 100, 13, 4, 5, 6, 7, 8, 9, 10, 99, 99]\n"
     ]
    }
   ],
   "source": [
    "lista.insert(2,100)\n",
    "print(lista)"
   ]
  },
  {
   "cell_type": "code",
   "execution_count": 21,
   "metadata": {},
   "outputs": [
    {
     "data": {
      "text/plain": [
       "[1, 2, 4, 5, 6, 7, 8, 9, 10, 13, 99, 99, 100]"
      ]
     },
     "execution_count": 21,
     "metadata": {},
     "output_type": "execute_result"
    }
   ],
   "source": [
    "sorted(lista)"
   ]
  },
  {
   "cell_type": "code",
   "execution_count": 22,
   "metadata": {},
   "outputs": [
    {
     "data": {
      "text/plain": [
       "1"
      ]
     },
     "execution_count": 22,
     "metadata": {},
     "output_type": "execute_result"
    }
   ],
   "source": [
    "min(lista)"
   ]
  },
  {
   "cell_type": "code",
   "execution_count": 23,
   "metadata": {},
   "outputs": [
    {
     "data": {
      "text/plain": [
       "100"
      ]
     },
     "execution_count": 23,
     "metadata": {},
     "output_type": "execute_result"
    }
   ],
   "source": [
    "max(lista)"
   ]
  },
  {
   "cell_type": "code",
   "execution_count": 26,
   "metadata": {},
   "outputs": [
    {
     "name": "stdout",
     "output_type": "stream",
     "text": [
      "[3, 5, 9, 10]\n"
     ]
    }
   ],
   "source": [
    "lista_exemplo = []\n",
    "\n",
    "numero = int(input('Digite um número inteiro'))\n",
    "\n",
    "while numero != 0:\n",
    "    lista_exemplo.append(numero)\n",
    "    numero = int(input('Digite um número inteiro'))\n",
    "    \n",
    "print(lista_exemplo)"
   ]
  },
  {
   "cell_type": "code",
   "execution_count": 30,
   "metadata": {},
   "outputs": [
    {
     "name": "stdout",
     "output_type": "stream",
     "text": [
      "1\n",
      "3\n",
      "5\n",
      "7\n",
      "9\n",
      "11\n",
      "36\n"
     ]
    }
   ],
   "source": [
    "numeros = [1, 3, 5, 7, 9, 11]\n",
    "soma = 0\n",
    "indice = 0\n",
    "\n",
    "while indice < len(numeros):\n",
    "    soma = soma + numeros[indice]\n",
    "    print(numeros[indice])\n",
    "    indice += 1\n",
    "    \n",
    "print(soma)"
   ]
  },
  {
   "cell_type": "code",
   "execution_count": 32,
   "metadata": {},
   "outputs": [
    {
     "data": {
      "text/plain": [
       "range(0, 5)"
      ]
     },
     "execution_count": 32,
     "metadata": {},
     "output_type": "execute_result"
    }
   ],
   "source": [
    "# Função range\n",
    "\n",
    "range(0, 5)\n",
    "\n",
    "# Cria uma lista com os valores [0, 1, 2, 3, 4]\n"
   ]
  },
  {
   "cell_type": "code",
   "execution_count": 31,
   "metadata": {},
   "outputs": [
    {
     "data": {
      "text/plain": [
       "range(1, 6)"
      ]
     },
     "execution_count": 31,
     "metadata": {},
     "output_type": "execute_result"
    }
   ],
   "source": [
    "range(1, 6)"
   ]
  },
  {
   "cell_type": "code",
   "execution_count": 33,
   "metadata": {},
   "outputs": [
    {
     "data": {
      "text/plain": [
       "range(0, 5)"
      ]
     },
     "execution_count": 33,
     "metadata": {},
     "output_type": "execute_result"
    }
   ],
   "source": [
    "range(5)"
   ]
  },
  {
   "cell_type": "code",
   "execution_count": 38,
   "metadata": {},
   "outputs": [
    {
     "name": "stdout",
     "output_type": "stream",
     "text": [
      "1\n",
      "3\n",
      "------\n",
      "1\n",
      "3\n",
      "5\n",
      "7\n",
      "9\n",
      "------\n",
      "1 3 5 7 9 "
     ]
    }
   ],
   "source": [
    "numeros = [1, 3, 5, 7, 9]\n",
    "\n",
    "print(numeros[0])\n",
    "print(numeros[1])\n",
    "\n",
    "print('------')\n",
    "\n",
    "for i in range(5):\n",
    "    print(numeros[i])\n",
    "\n",
    "print('------')\n",
    "\n",
    "for i in range(len(numeros)):\n",
    "    print(numeros[i], end=' ')"
   ]
  },
  {
   "cell_type": "code",
   "execution_count": 39,
   "metadata": {},
   "outputs": [
    {
     "name": "stdout",
     "output_type": "stream",
     "text": [
      "1\n",
      "3\n",
      "5\n",
      "7\n",
      "9\n"
     ]
    }
   ],
   "source": [
    "for item in numeros:\n",
    "    print(item)"
   ]
  },
  {
   "cell_type": "markdown",
   "metadata": {},
   "source": [
    "4. Faça um programa que olhe todos os itens de uma lista e diga quantos deles são pares."
   ]
  },
  {
   "cell_type": "code",
   "execution_count": 41,
   "metadata": {},
   "outputs": [
    {
     "name": "stdout",
     "output_type": "stream",
     "text": [
      "2\n",
      "4\n",
      "6\n",
      "São 3 números pares\n"
     ]
    }
   ],
   "source": [
    "lista1 = [1, 2, 3, 4, 5, 6]\n",
    "soma = 0\n",
    "for num in lista1:\n",
    "    if num % 2 == 0:\n",
    "        print(num)\n",
    "        soma += 1\n",
    "print(f'São {soma} números pares')"
   ]
  },
  {
   "cell_type": "markdown",
   "metadata": {},
   "source": [
    " \n",
    "7. Faça um programa que, dadas duas listas de mesmo tamanho, crie uma nova lista com cada elemento igual a soma dos elementos da lista 1 com os da lista 2, na mesma posição.\n"
   ]
  },
  {
   "cell_type": "code",
   "execution_count": 45,
   "metadata": {},
   "outputs": [
    {
     "name": "stdout",
     "output_type": "stream",
     "text": [
      "[2, 4, 6, 8, 10, 12]\n"
     ]
    }
   ],
   "source": [
    "lista1 = [1, 2, 3, 4, 5, 6]\n",
    "lista2 = [1, 2, 3, 4, 5, 6]\n",
    "\n",
    "sum_lista = []\n",
    "\n",
    "if len(lista1) != len(lista2):\n",
    "    print('As listas têm tamanhos diferentes')\n",
    "else:\n",
    "    for i in range(len(lista1)):\n",
    "        sum_lista.append(lista1[i] + lista2[i])\n",
    "    \n",
    "print(sum_lista)"
   ]
  },
  {
   "cell_type": "markdown",
   "metadata": {},
   "source": [
    "11. Faça um Programa que peça as 4 notas bimestrais e mostre a média, usando listas."
   ]
  },
  {
   "cell_type": "code",
   "execution_count": 49,
   "metadata": {},
   "outputs": [
    {
     "name": "stdout",
     "output_type": "stream",
     "text": [
      "6.5\n"
     ]
    }
   ],
   "source": [
    "notas = []\n",
    "\n",
    "for i in range(4):\n",
    "    nota = float(input('Digite a nota:'))\n",
    "    notas.append(nota)\n",
    "    \n",
    "media = sum(notas)/len(notas)\n",
    "print(media)"
   ]
  }
 ],
 "metadata": {
  "kernelspec": {
   "display_name": "Python 3",
   "language": "python",
   "name": "python3"
  },
  "language_info": {
   "codemirror_mode": {
    "name": "ipython",
    "version": 3
   },
   "file_extension": ".py",
   "mimetype": "text/x-python",
   "name": "python",
   "nbconvert_exporter": "python",
   "pygments_lexer": "ipython3",
   "version": "3.12.4"
  }
 },
 "nbformat": 4,
 "nbformat_minor": 2
}
