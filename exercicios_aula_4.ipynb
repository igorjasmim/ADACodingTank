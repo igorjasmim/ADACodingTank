{
 "cells": [
  {
   "cell_type": "markdown",
   "metadata": {},
   "source": [
    "1. Crie uma lista qualquer e faça um programa que imprima cada elemento da lista usando o for."
   ]
  },
  {
   "cell_type": "code",
   "execution_count": null,
   "metadata": {},
   "outputs": [],
   "source": [
    "lista01 = ['a', 'b', 'c', 'd']\n",
    "\n",
    "for item in lista01:\n",
    "    print(item)"
   ]
  },
  {
   "cell_type": "markdown",
   "metadata": {},
   "source": [
    "2. Faça um programa que imprima todos os itens de uma lista usando while e compare com o exercício 1.\n",
    "\n"
   ]
  },
  {
   "cell_type": "code",
   "execution_count": null,
   "metadata": {},
   "outputs": [
    {
     "name": "stdout",
     "output_type": "stream",
     "text": [
      "Item: a\n",
      "Item: b\n",
      "Item: c\n",
      "Item: d\n"
     ]
    }
   ],
   "source": [
    "lista01 = ['a', 'b', 'c', 'd']\n",
    "indice = 0\n",
    "\n",
    "while indice < len(lista01):\n",
    "    print(f\"Item: {lista01[indice]}\")\n",
    "    indice +=1\n"
   ]
  },
  {
   "cell_type": "markdown",
   "metadata": {},
   "source": [
    "3) Faça um programa que peça para o usuário digitar um número n e imprima uma lista com todos os números de 0 a n-1."
   ]
  },
  {
   "cell_type": "code",
   "execution_count": null,
   "metadata": {},
   "outputs": [
    {
     "name": "stdout",
     "output_type": "stream",
     "text": [
      "n = 6\n",
      "[0, 1, 2, 3, 4, 5]\n"
     ]
    }
   ],
   "source": [
    "n = int(input(\"n = \"))\n",
    "\n",
    "lista = list(range(n))\n",
    "\n",
    "print(lista)"
   ]
  },
  {
   "cell_type": "markdown",
   "metadata": {},
   "source": [
    "4. Faça um programa que olhe todos os itens de uma lista e diga quantos deles são pares. "
   ]
  },
  {
   "cell_type": "code",
   "execution_count": null,
   "metadata": {},
   "outputs": [
    {
     "name": "stdout",
     "output_type": "stream",
     "text": [
      "5\n"
     ]
    }
   ],
   "source": [
    "numeros = [1, 2, 3, 4, 5, 6, 7, 8, 9, 10]\n",
    "pares = 0\n",
    "\n",
    "for elemento in numeros:\n",
    "    if elemento % 2 == 0:\n",
    "        pares += 1\n",
    "\n",
    "print(pares)"
   ]
  },
  {
   "cell_type": "code",
   "execution_count": null,
   "metadata": {},
   "outputs": [
    {
     "name": "stdout",
     "output_type": "stream",
     "text": [
      "Existem 5 números pares na sua lista\n",
      "[4, 6, 8, 10, 12]\n"
     ]
    }
   ],
   "source": [
    "# VARIAÇÃO DO EXERCÍCIO: quais deles são pares\n",
    "lista = [1, 3, 4, 5, 6, 7, 8, 9, 10, 12]\n",
    "pares = []\n",
    "\n",
    "for elemento in lista:\n",
    "    if elemento % 2 == 0:\n",
    "        pares.append(elemento)\n",
    "\n",
    "print(f\"Existem {len(pares)} números pares na sua lista\")\n",
    "print(pares)"
   ]
  },
  {
   "cell_type": "markdown",
   "metadata": {},
   "source": [
    "5. Faça um programa que imprima o maior número de uma lista, sem usar o método max()"
   ]
  },
  {
   "cell_type": "code",
   "execution_count": null,
   "metadata": {},
   "outputs": [
    {
     "data": {
      "text/plain": [
       "12"
      ]
     },
     "metadata": {},
     "output_type": "display_data"
    }
   ],
   "source": [
    "lista = [12, 3, 4, 5, 6, 7, 8, 9, 10, 1]\n",
    "\n",
    "sorted(lista)[-1]"
   ]
  },
  {
   "cell_type": "code",
   "execution_count": null,
   "metadata": {},
   "outputs": [
    {
     "name": "stdout",
     "output_type": "stream",
     "text": [
      "O maior elemento da lista é 12\n"
     ]
    }
   ],
   "source": [
    "lista = [1, 4, -8, 12, 3, -5, 2, -14, 6]\n",
    "maior = lista[0]\n",
    "\n",
    "for elemento in lista:\n",
    "    if elemento > maior:\n",
    "        maior = elemento\n",
    "print(\"O maior elemento da lista é\", maior)"
   ]
  },
  {
   "cell_type": "markdown",
   "metadata": {},
   "source": [
    "6. Agora usando o método max() faça um programa que imprima os três maiores números de uma lista. "
   ]
  },
  {
   "cell_type": "code",
   "execution_count": null,
   "metadata": {},
   "outputs": [
    {
     "name": "stdout",
     "output_type": "stream",
     "text": [
      "12\n",
      "6\n",
      "4\n"
     ]
    }
   ],
   "source": [
    "lista = [1, 4, -8, 12, 3, -5, 2, -14, 6]\n",
    "\n",
    "for i in range(3):\n",
    "    maior_numero = max(lista)\n",
    "    print(maior_numero)\n",
    "    lista.remove(maior_numero) # removo o maior da lista para pegar o segundo maior"
   ]
  },
  {
   "cell_type": "markdown",
   "metadata": {},
   "source": [
    "7. Faça um programa que, dadas duas listas de mesmo tamanho, crie uma nova lista com cada elemento igual a soma dos elementos da lista 1 com os da lista 2, na mesma posição. "
   ]
  },
  {
   "cell_type": "code",
   "execution_count": null,
   "metadata": {},
   "outputs": [
    {
     "name": "stdout",
     "output_type": "stream",
     "text": [
      "[3, 6, 8]\n"
     ]
    }
   ],
   "source": [
    "lista1 = [1,4,5]\n",
    "lista2 = [2,2,3]\n",
    "lista3 = []\n",
    "\n",
    "if len(lista1) != len(lista2):\n",
    "    print(\"As listas tem tamanhos diferentes!\")\n",
    "else:\n",
    "    for i in range(len(lista1)):\n",
    "        valor = lista1[i] + lista2[i]\n",
    "        lista3.append(valor)\n",
    "    print(lista3)"
   ]
  },
  {
   "cell_type": "markdown",
   "metadata": {},
   "source": [
    "8. Faça um programa que dadas duas listas de mesmo tamanho, imprima o produto escalar entre elas. "
   ]
  },
  {
   "cell_type": "code",
   "execution_count": null,
   "metadata": {},
   "outputs": [
    {
     "name": "stdout",
     "output_type": "stream",
     "text": [
      "25\n"
     ]
    }
   ],
   "source": [
    "lista1 = [1, 4, 5]\n",
    "lista2 = [2, 2, 3]\n",
    "soma = 0\n",
    "\n",
    "for i in range(len(lista1)):\n",
    "    soma = soma + lista1[i]*lista2[i]\n",
    "print(soma)"
   ]
  },
  {
   "cell_type": "markdown",
   "metadata": {},
   "source": [
    "9. Faça um programa que pede para o usuário digitar 5 números e, ao final, imprime uma lista com os 5 números digitados pelo usuário (sem converter os números para int ou float). "
   ]
  },
  {
   "cell_type": "code",
   "execution_count": null,
   "metadata": {},
   "outputs": [
    {
     "name": "stdout",
     "output_type": "stream",
     "text": [
      "Digite um número: 5\n",
      "Digite um número: 6\n",
      "Digite um número: 7\n",
      "Digite um número: 3\n",
      "Digite um número: 2.5\n",
      "['5', '6', '7', '3', '2.5']\n"
     ]
    }
   ],
   "source": [
    "lista = []\n",
    "for i in range(5):\n",
    "    num = input(\"Digite um número: \")\n",
    "    lista.append(num)\n",
    "print(lista)"
   ]
  },
  {
   "cell_type": "markdown",
   "metadata": {},
   "source": [
    "10. Pegue a lista gerada no exercício anterior e transforme cada um dos itens dessa lista em um float."
   ]
  },
  {
   "cell_type": "code",
   "execution_count": null,
   "metadata": {},
   "outputs": [
    {
     "name": "stdout",
     "output_type": "stream",
     "text": [
      "[5.0, 6.0, 7.0, 3.0, 2.5]\n"
     ]
    }
   ],
   "source": [
    "for i in range(len(lista)):\n",
    "    lista[i] = float(lista[i])\n",
    "    \n",
    "print(lista)"
   ]
  },
  {
   "cell_type": "code",
   "execution_count": null,
   "metadata": {},
   "outputs": [
    {
     "name": "stdout",
     "output_type": "stream",
     "text": [
      "[5.0, 6.0, 7.0, 3.0, 2.5]\n"
     ]
    }
   ],
   "source": [
    "lista_nova = []\n",
    "for item in lista:\n",
    "    lista_nova.append(float(item))\n",
    "\n",
    "print(lista_nova)"
   ]
  },
  {
   "cell_type": "markdown",
   "metadata": {},
   "source": [
    "11. Faça um Programa que peça as 4 notas bimestrais e mostre a média, usando listas."
   ]
  },
  {
   "cell_type": "code",
   "execution_count": null,
   "metadata": {},
   "outputs": [
    {
     "name": "stdout",
     "output_type": "stream",
     "text": [
      "Digite a nota: 7\n",
      "Digite a nota: 8\n",
      "Digite a nota: 7.5\n",
      "Digite a nota: 6\n",
      "7.125\n"
     ]
    }
   ],
   "source": [
    "lista = []\n",
    "\n",
    "for i in range(4):\n",
    "    nota = float(input(\"Digite a nota: \"))\n",
    "    lista.append(nota)\n",
    "print(sum(lista) / len(lista))"
   ]
  }
 ],
 "metadata": {
  "language_info": {
   "name": "python"
  }
 },
 "nbformat": 4,
 "nbformat_minor": 2
}
